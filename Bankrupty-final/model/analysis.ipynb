{
 "cells": [
  {
   "cell_type": "markdown",
   "id": "5c015df1",
   "metadata": {},
   "source": [
    "# Model analysis"
   ]
  },
  {
   "cell_type": "markdown",
   "id": "5e8fd8ba",
   "metadata": {},
   "source": [
    "#### Required libraries"
   ]
  },
  {
   "cell_type": "code",
   "execution_count": 1,
   "id": "b0af2c1b",
   "metadata": {},
   "outputs": [],
   "source": [
    "import numpy as np\n",
    "import pandas as pd\n",
    "import json\n",
    "import pickle\n",
    "import matplotlib.pyplot as plt\n",
    "\n",
    "from sklearn.model_selection import GridSearchCV, train_test_split, cross_val_score\n",
    "from sklearn.preprocessing import StandardScaler\n",
    "from sklearn.linear_model import LogisticRegression\n",
    "from sklearn.neural_network import MLPClassifier\n",
    "from sklearn.svm import SVC\n",
    "from sklearn.discriminant_analysis import LinearDiscriminantAnalysis as LDA\n",
    "from sklearn.ensemble import AdaBoostClassifier, GradientBoostingClassifier, RandomForestClassifier\n",
    "\n",
    "import warnings\n",
    "warnings.filterwarnings(\"ignore\")"
   ]
  },
  {
   "cell_type": "markdown",
   "id": "2d3df31d",
   "metadata": {},
   "source": [
    "### Data preparation"
   ]
  },
  {
   "cell_type": "code",
   "execution_count": 2,
   "id": "00d9f253",
   "metadata": {
    "scrolled": true
   },
   "outputs": [
    {
     "data": {
      "text/plain": [
       "((43184, 64), Index(['X21', 'X37'], dtype='object'))"
      ]
     },
     "execution_count": 2,
     "metadata": {},
     "output_type": "execute_result"
    }
   ],
   "source": [
    "data = pd.read_csv('../data/extension/csv/data.csv')\n",
    "data.replace('?', np.NAN, inplace=True)\n",
    "data[data.columns.drop(['year', 'X65'])] = data[data.columns.drop(['year', 'X65'])].astype(float)\n",
    "data[['year', 'X65']] = data[['year', 'X65']].astype('category')\n",
    "    \n",
    "\n",
    "useless_col = data.isna().sum()[data.isna().sum() > 5000].index\n",
    "data.drop(useless_col, axis=1, inplace=True)\n",
    "useless_row = data.isna().sum(axis=1)[data.isna().sum(axis=1) > 10].index\n",
    "data.drop(useless_row, axis=0, inplace=True)\n",
    "data.fillna(data.mean(), inplace=True)\n",
    "data = data.sample(frac=1)\n",
    "data.shape, useless_col"
   ]
  },
  {
   "cell_type": "markdown",
   "id": "f82e35b0",
   "metadata": {},
   "source": [
    "#### Train data and test data"
   ]
  },
  {
   "cell_type": "markdown",
   "id": "2741e187",
   "metadata": {},
   "source": [
    "To get a balanced dataset that is fairly dependant on each year :"
   ]
  },
  {
   "cell_type": "code",
   "execution_count": 3,
   "id": "6009c52c",
   "metadata": {},
   "outputs": [
    {
     "data": {
      "text/plain": [
       "((34545, 64), (8639, 64))"
      ]
     },
     "execution_count": 3,
     "metadata": {},
     "output_type": "execute_result"
    }
   ],
   "source": [
    "train_ = pd.DataFrame()\n",
    "test_ = pd.DataFrame()\n",
    "for year in data.year.unique():\n",
    "    tr, ts = train_test_split(data[data.year == year], test_size=0.2, random_state=9)\n",
    "    train_ = train_.append(tr, ignore_index=True)\n",
    "    test_ = test_.append(ts, ignore_index=True)\n",
    "\n",
    "train_.shape, test_.shape"
   ]
  },
  {
   "cell_type": "markdown",
   "id": "003dd9d5",
   "metadata": {},
   "source": [
    "#### Data standardization"
   ]
  },
  {
   "cell_type": "code",
   "execution_count": 4,
   "id": "67ba2f10",
   "metadata": {},
   "outputs": [],
   "source": [
    "categ = ['year', 'X65']\n",
    "\n",
    "scaler =  StandardScaler()\n",
    "scaler.fit(train_.drop(columns=categ))\n",
    "\n",
    "train = pd.DataFrame(scaler.transform(train_.drop(columns=categ)), \n",
    "                      columns=train_.columns.drop(categ))\n",
    "test = pd.DataFrame(scaler.transform(test_.drop(columns=categ)), \n",
    "                     columns=test_.columns.drop(categ))\n",
    "\n",
    "train = pd.concat([train, train_[categ]], axis=1)\n",
    "test = pd.concat([test, test_[categ]], axis=1)"
   ]
  },
  {
   "cell_type": "code",
   "execution_count": 5,
   "id": "4b99febc",
   "metadata": {},
   "outputs": [],
   "source": [
    "train_y = train.pop('X65')\n",
    "train_x = train.copy()\n",
    "\n",
    "test_y = test.pop('X65')\n",
    "test_x = test.copy()"
   ]
  },
  {
   "cell_type": "markdown",
   "id": "e7930879",
   "metadata": {},
   "source": [
    "#### Save scaler used for standardize train set"
   ]
  },
  {
   "cell_type": "code",
   "execution_count": 6,
   "id": "d208d59d",
   "metadata": {},
   "outputs": [],
   "source": [
    "with open('saved_model/scaler.sav', 'wb') as f:\n",
    "    pickle.dump(scaler, f)"
   ]
  },
  {
   "cell_type": "markdown",
   "id": "ff6ada41",
   "metadata": {},
   "source": [
    "#### Encode categorical variable : year"
   ]
  },
  {
   "cell_type": "code",
   "execution_count": 7,
   "id": "e42de2bb",
   "metadata": {},
   "outputs": [
    {
     "data": {
      "text/plain": [
       "((34545, 67), (8639, 67))"
      ]
     },
     "execution_count": 7,
     "metadata": {},
     "output_type": "execute_result"
    }
   ],
   "source": [
    "train_x = pd.get_dummies(train_x)\n",
    "test_x = pd.get_dummies(test_x)\n",
    "\n",
    "train_x.shape, test_x.shape"
   ]
  },
  {
   "cell_type": "markdown",
   "id": "0282b33f",
   "metadata": {},
   "source": [
    "### Model testing"
   ]
  },
  {
   "cell_type": "markdown",
   "id": "0a19c51d",
   "metadata": {},
   "source": [
    "12 max features because in visualisation part, we saw that only 12 was needed to reach the biggest parts of information contained in dataset"
   ]
  },
  {
   "cell_type": "markdown",
   "id": "d28ce706",
   "metadata": {},
   "source": [
    "#### Logistic regression"
   ]
  },
  {
   "cell_type": "code",
   "execution_count": 8,
   "id": "6f760457",
   "metadata": {
    "scrolled": true
   },
   "outputs": [
    {
     "data": {
      "text/plain": [
       "array([0.95136778, 0.6932986 , 0.35243885, 0.95020987, 0.95020987])"
      ]
     },
     "execution_count": 8,
     "metadata": {},
     "output_type": "execute_result"
    }
   ],
   "source": [
    "lr = LogisticRegression()\n",
    "cross_val_score(lr, train_x, train_y, cv=5)"
   ]
  },
  {
   "cell_type": "code",
   "execution_count": 9,
   "id": "ed52e1e6",
   "metadata": {
    "scrolled": true
   },
   "outputs": [
    {
     "name": "stdout",
     "output_type": "stream",
     "text": [
      "LogisticRegression(n_jobs=-1)\n",
      "for {'C': 1, 'solver': 'newton-cg'} => mean : 0.8356636271529888\n",
      "for {'C': 1, 'solver': 'sag'} => mean : 0.9511940946591402\n",
      "for {'C': 2, 'solver': 'newton-cg'} => mean : 0.8348820379215516\n",
      "for {'C': 2, 'solver': 'sag'} => mean : 0.9511940946591402\n",
      "for {'C': 3, 'solver': 'newton-cg'} => mean : 0.8347951946736142\n",
      "for {'C': 3, 'solver': 'sag'} => mean : 0.9511940946591402\n",
      "LogisticRegression(C=1, n_jobs=-1, solver='sag')\n"
     ]
    }
   ],
   "source": [
    "params = dict(solver=['newton-cg', 'sag'], C=[1, 2, 3])\n",
    "lr = LogisticRegression(n_jobs=-1)\n",
    "grid = GridSearchCV(lr, params, cv=3, n_jobs=-1)\n",
    "grid.fit(train_x, train_y)\n",
    "grid.cv_results_\n",
    "print(lr)\n",
    "print(\"\\n\".join([f\"for {x} => mean : {y}\" for x,y in zip(\n",
    "                     grid.cv_results_['params'], grid.cv_results_['mean_test_score']\n",
    "                 )]))\n",
    "print(grid.best_estimator_)"
   ]
  },
  {
   "cell_type": "code",
   "execution_count": 10,
   "id": "85f1d1db",
   "metadata": {},
   "outputs": [],
   "source": [
    "with open('saved_model/lr.sav', 'wb') as f:\n",
    "    pickle.dump(grid.best_estimator_, f)"
   ]
  },
  {
   "cell_type": "markdown",
   "id": "45414d5e",
   "metadata": {},
   "source": [
    "#### Linear Discriminant Analysis"
   ]
  },
  {
   "cell_type": "code",
   "execution_count": 11,
   "id": "6caa985c",
   "metadata": {
    "scrolled": true
   },
   "outputs": [
    {
     "data": {
      "text/plain": [
       "array([0.95064409, 0.20147634, 0.34520191, 0.94760457, 0.94630193])"
      ]
     },
     "execution_count": 11,
     "metadata": {},
     "output_type": "execute_result"
    }
   ],
   "source": [
    "lda = LDA(solver='svd', tol=1e-4)\n",
    "cross_val_score(lda, train_x, train_y, cv=5)"
   ]
  },
  {
   "cell_type": "code",
   "execution_count": 12,
   "id": "dea5745a",
   "metadata": {},
   "outputs": [
    {
     "name": "stdout",
     "output_type": "stream",
     "text": [
      "LinearDiscriminantAnalysis()\n",
      "for {'solver': 'svd', 'tol': 0.001} => mean : 0.6782747141409755\n",
      "for {'solver': 'svd', 'tol': 0.0001} => mean : 0.678245766391663\n",
      "for {'solver': 'svd', 'tol': 1e-05} => mean : 0.678245766391663\n",
      "for {'solver': 'lsqr', 'tol': 0.001} => mean : 0.6785641916341005\n",
      "for {'solver': 'lsqr', 'tol': 0.0001} => mean : 0.6785641916341005\n",
      "for {'solver': 'lsqr', 'tol': 1e-05} => mean : 0.6785641916341005\n",
      "LinearDiscriminantAnalysis(solver='lsqr', tol=0.001)\n"
     ]
    }
   ],
   "source": [
    "params = dict(solver=['svd', 'lsqr'], tol=[1e-3, 1e-4, 1e-5])\n",
    "lda = LDA()\n",
    "grid = GridSearchCV(lda, params, cv=5, n_jobs=-1)\n",
    "grid.fit(train_x, train_y)\n",
    "grid.cv_results_\n",
    "print(lda)\n",
    "print(\"\\n\".join([f\"for {x} => mean : {y}\" \n",
    "                 for x,y in zip(\n",
    "                     grid.cv_results_['params'], \n",
    "                     grid.cv_results_['mean_test_score'])]\n",
    "               ))\n",
    "print(grid.best_estimator_)"
   ]
  },
  {
   "cell_type": "code",
   "execution_count": 13,
   "id": "7641c07b",
   "metadata": {},
   "outputs": [],
   "source": [
    "with open('saved_model/lda.sav', 'wb') as f:\n",
    "    pickle.dump(grid.best_estimator_, f)"
   ]
  },
  {
   "cell_type": "markdown",
   "id": "3fc00385",
   "metadata": {},
   "source": [
    "#### Random Forest"
   ]
  },
  {
   "cell_type": "code",
   "execution_count": 14,
   "id": "b5979ff0",
   "metadata": {
    "scrolled": true
   },
   "outputs": [
    {
     "data": {
      "text/plain": [
       "array([0.96491533, 0.79400782, 0.9640469 ])"
      ]
     },
     "execution_count": 14,
     "metadata": {},
     "output_type": "execute_result"
    }
   ],
   "source": [
    "rf = RandomForestClassifier(n_jobs=-1, random_state=9)\n",
    "cross_val_score(rf, train_x, train_y, cv=3)"
   ]
  },
  {
   "cell_type": "code",
   "execution_count": 15,
   "id": "9f64c34b",
   "metadata": {
    "scrolled": false
   },
   "outputs": [
    {
     "name": "stdout",
     "output_type": "stream",
     "text": [
      "RandomForestClassifier(n_jobs=-1, random_state=9)\n",
      "for {'criterion': 'gini', 'max_depth': 15} => mean : 0.9401360544217687\n",
      "for {'criterion': 'gini', 'max_depth': 45} => mean : 0.9076566796931539\n",
      "for {'criterion': 'gini', 'max_depth': 50} => mean : 0.9076566796931539\n",
      "for {'criterion': 'gini', 'max_depth': 100} => mean : 0.9076566796931539\n",
      "for {'criterion': 'gini', 'max_depth': 200} => mean : 0.9076566796931539\n",
      "RandomForestClassifier(max_depth=15, n_jobs=-1, random_state=9)\n"
     ]
    }
   ],
   "source": [
    "params = dict(criterion=['gini'], max_depth=[15, 45, 50, 100, 200])\n",
    "rf = RandomForestClassifier(n_jobs=-1, random_state=9)\n",
    "\n",
    "grid = GridSearchCV(rf, params, cv=3, n_jobs=-1)\n",
    "grid.fit(train_x, train_y)\n",
    "grid.cv_results_\n",
    "print(rf)\n",
    "print(\"\\n\".join([f\"for {x} => mean : {y}\" \n",
    "                 for x,y in zip(\n",
    "                     grid.cv_results_['params'], \n",
    "                     grid.cv_results_['mean_test_score'])]\n",
    "               ))\n",
    "print(grid.best_estimator_)"
   ]
  },
  {
   "cell_type": "code",
   "execution_count": 16,
   "id": "433da8ee",
   "metadata": {},
   "outputs": [],
   "source": [
    "with open('saved_model/rf.sav', 'wb') as f:\n",
    "    pickle.dump(grid.best_estimator_, f)"
   ]
  },
  {
   "cell_type": "markdown",
   "id": "225f6f89",
   "metadata": {},
   "source": [
    "#### Gradient Boosting"
   ]
  },
  {
   "cell_type": "code",
   "execution_count": 17,
   "id": "365b6731",
   "metadata": {},
   "outputs": [
    {
     "data": {
      "text/plain": [
       "array([0.96743378, 0.84093212, 0.56752063, 0.96468375, 0.96598639])"
      ]
     },
     "execution_count": 17,
     "metadata": {},
     "output_type": "execute_result"
    }
   ],
   "source": [
    "gbm = GradientBoostingClassifier()\n",
    "cross_val_score(gbm, train_x, train_y, cv=5)"
   ]
  },
  {
   "cell_type": "code",
   "execution_count": 18,
   "id": "b9bb4a32",
   "metadata": {},
   "outputs": [
    {
     "name": "stdout",
     "output_type": "stream",
     "text": [
      "GradientBoostingClassifier(random_state=9)\n",
      "for {'max_depth': 3, 'n_estimators': 100} => mean : 0.8810826458242872\n",
      "for {'max_depth': 3, 'n_estimators': 300} => mean : 0.8787668258792879\n",
      "for {'max_depth': 5, 'n_estimators': 100} => mean : 0.8624113475177305\n",
      "for {'max_depth': 5, 'n_estimators': 300} => mean : 0.8616297582862932\n",
      "for {'max_depth': 7, 'n_estimators': 100} => mean : 0.8669561441597917\n",
      "for {'max_depth': 7, 'n_estimators': 300} => mean : 0.8603850050658561\n",
      "GradientBoostingClassifier(random_state=9)\n"
     ]
    }
   ],
   "source": [
    "params = dict(n_estimators=[100, 300], max_depth=[3,5,7])\n",
    "gbm = GradientBoostingClassifier(random_state=9)\n",
    "\n",
    "grid = GridSearchCV(gbm, params, cv=3, n_jobs=-1)\n",
    "grid.fit(train_x, train_y)\n",
    "grid.cv_results_\n",
    "print(gbm)\n",
    "print(\"\\n\".join([f\"for {x} => mean : {y}\" \n",
    "                 for x,y in zip(\n",
    "                     grid.cv_results_['params'], \n",
    "                     grid.cv_results_['mean_test_score'])]\n",
    "               ))\n",
    "print(grid.best_estimator_)"
   ]
  },
  {
   "cell_type": "code",
   "execution_count": 19,
   "id": "bad173af",
   "metadata": {},
   "outputs": [],
   "source": [
    "with open('saved_model/gbm.sav', 'wb') as f:\n",
    "    pickle.dump(grid.best_estimator_, f)"
   ]
  },
  {
   "cell_type": "markdown",
   "id": "93f99c28",
   "metadata": {},
   "source": [
    "#### SVM"
   ]
  },
  {
   "cell_type": "code",
   "execution_count": 20,
   "id": "506442da",
   "metadata": {},
   "outputs": [
    {
     "data": {
      "text/plain": [
       "array([0.95151252, 0.95151252, 0.35287306, 0.95136778, 0.95136778])"
      ]
     },
     "execution_count": 20,
     "metadata": {},
     "output_type": "execute_result"
    }
   ],
   "source": [
    "svm = SVC()\n",
    "cross_val_score(svm, train_x, train_y, cv=5)"
   ]
  },
  {
   "cell_type": "code",
   "execution_count": 21,
   "id": "159ed603",
   "metadata": {},
   "outputs": [
    {
     "ename": "KeyboardInterrupt",
     "evalue": "",
     "output_type": "error",
     "traceback": [
      "\u001b[1;31m---------------------------------------------------------------------------\u001b[0m",
      "\u001b[1;31mKeyboardInterrupt\u001b[0m                         Traceback (most recent call last)",
      "\u001b[1;32mc:\\Users\\Pranav\\OneDrive\\Desktop\\sem-6 mini-project\\Bankruptcy\\Bankrupty-final\\model\\analysis.ipynb Cell 36'\u001b[0m in \u001b[0;36m<module>\u001b[1;34m\u001b[0m\n\u001b[0;32m      <a href='vscode-notebook-cell:/c%3A/Users/Pranav/OneDrive/Desktop/sem-6%20mini-project/Bankruptcy/Bankrupty-final/model/analysis.ipynb#ch0000035?line=2'>3</a>\u001b[0m svm \u001b[39m=\u001b[39m SVC(random_state\u001b[39m=\u001b[39m\u001b[39m9\u001b[39m)\n\u001b[0;32m      <a href='vscode-notebook-cell:/c%3A/Users/Pranav/OneDrive/Desktop/sem-6%20mini-project/Bankruptcy/Bankrupty-final/model/analysis.ipynb#ch0000035?line=4'>5</a>\u001b[0m grid \u001b[39m=\u001b[39m GridSearchCV(svm, params, cv\u001b[39m=\u001b[39m\u001b[39m3\u001b[39m, n_jobs\u001b[39m=\u001b[39m\u001b[39m-\u001b[39m\u001b[39m1\u001b[39m)\n\u001b[1;32m----> <a href='vscode-notebook-cell:/c%3A/Users/Pranav/OneDrive/Desktop/sem-6%20mini-project/Bankruptcy/Bankrupty-final/model/analysis.ipynb#ch0000035?line=5'>6</a>\u001b[0m grid\u001b[39m.\u001b[39;49mfit(train_x, train_y)\n\u001b[0;32m      <a href='vscode-notebook-cell:/c%3A/Users/Pranav/OneDrive/Desktop/sem-6%20mini-project/Bankruptcy/Bankrupty-final/model/analysis.ipynb#ch0000035?line=6'>7</a>\u001b[0m grid\u001b[39m.\u001b[39mcv_results_\n\u001b[0;32m      <a href='vscode-notebook-cell:/c%3A/Users/Pranav/OneDrive/Desktop/sem-6%20mini-project/Bankruptcy/Bankrupty-final/model/analysis.ipynb#ch0000035?line=7'>8</a>\u001b[0m \u001b[39mprint\u001b[39m(svm)\n",
      "File \u001b[1;32m~\\AppData\\Local\\Programs\\Python\\Python310\\lib\\site-packages\\sklearn\\model_selection\\_search.py:891\u001b[0m, in \u001b[0;36mBaseSearchCV.fit\u001b[1;34m(self, X, y, groups, **fit_params)\u001b[0m\n\u001b[0;32m    <a href='file:///c%3A/Users/Pranav/AppData/Local/Programs/Python/Python310/lib/site-packages/sklearn/model_selection/_search.py?line=884'>885</a>\u001b[0m     results \u001b[39m=\u001b[39m \u001b[39mself\u001b[39m\u001b[39m.\u001b[39m_format_results(\n\u001b[0;32m    <a href='file:///c%3A/Users/Pranav/AppData/Local/Programs/Python/Python310/lib/site-packages/sklearn/model_selection/_search.py?line=885'>886</a>\u001b[0m         all_candidate_params, n_splits, all_out, all_more_results\n\u001b[0;32m    <a href='file:///c%3A/Users/Pranav/AppData/Local/Programs/Python/Python310/lib/site-packages/sklearn/model_selection/_search.py?line=886'>887</a>\u001b[0m     )\n\u001b[0;32m    <a href='file:///c%3A/Users/Pranav/AppData/Local/Programs/Python/Python310/lib/site-packages/sklearn/model_selection/_search.py?line=888'>889</a>\u001b[0m     \u001b[39mreturn\u001b[39;00m results\n\u001b[1;32m--> <a href='file:///c%3A/Users/Pranav/AppData/Local/Programs/Python/Python310/lib/site-packages/sklearn/model_selection/_search.py?line=890'>891</a>\u001b[0m \u001b[39mself\u001b[39;49m\u001b[39m.\u001b[39;49m_run_search(evaluate_candidates)\n\u001b[0;32m    <a href='file:///c%3A/Users/Pranav/AppData/Local/Programs/Python/Python310/lib/site-packages/sklearn/model_selection/_search.py?line=892'>893</a>\u001b[0m \u001b[39m# multimetric is determined here because in the case of a callable\u001b[39;00m\n\u001b[0;32m    <a href='file:///c%3A/Users/Pranav/AppData/Local/Programs/Python/Python310/lib/site-packages/sklearn/model_selection/_search.py?line=893'>894</a>\u001b[0m \u001b[39m# self.scoring the return type is only known after calling\u001b[39;00m\n\u001b[0;32m    <a href='file:///c%3A/Users/Pranav/AppData/Local/Programs/Python/Python310/lib/site-packages/sklearn/model_selection/_search.py?line=894'>895</a>\u001b[0m first_test_score \u001b[39m=\u001b[39m all_out[\u001b[39m0\u001b[39m][\u001b[39m\"\u001b[39m\u001b[39mtest_scores\u001b[39m\u001b[39m\"\u001b[39m]\n",
      "File \u001b[1;32m~\\AppData\\Local\\Programs\\Python\\Python310\\lib\\site-packages\\sklearn\\model_selection\\_search.py:1392\u001b[0m, in \u001b[0;36mGridSearchCV._run_search\u001b[1;34m(self, evaluate_candidates)\u001b[0m\n\u001b[0;32m   <a href='file:///c%3A/Users/Pranav/AppData/Local/Programs/Python/Python310/lib/site-packages/sklearn/model_selection/_search.py?line=1389'>1390</a>\u001b[0m \u001b[39mdef\u001b[39;00m \u001b[39m_run_search\u001b[39m(\u001b[39mself\u001b[39m, evaluate_candidates):\n\u001b[0;32m   <a href='file:///c%3A/Users/Pranav/AppData/Local/Programs/Python/Python310/lib/site-packages/sklearn/model_selection/_search.py?line=1390'>1391</a>\u001b[0m     \u001b[39m\"\"\"Search all candidates in param_grid\"\"\"\u001b[39;00m\n\u001b[1;32m-> <a href='file:///c%3A/Users/Pranav/AppData/Local/Programs/Python/Python310/lib/site-packages/sklearn/model_selection/_search.py?line=1391'>1392</a>\u001b[0m     evaluate_candidates(ParameterGrid(\u001b[39mself\u001b[39;49m\u001b[39m.\u001b[39;49mparam_grid))\n",
      "File \u001b[1;32m~\\AppData\\Local\\Programs\\Python\\Python310\\lib\\site-packages\\sklearn\\model_selection\\_search.py:838\u001b[0m, in \u001b[0;36mBaseSearchCV.fit.<locals>.evaluate_candidates\u001b[1;34m(candidate_params, cv, more_results)\u001b[0m\n\u001b[0;32m    <a href='file:///c%3A/Users/Pranav/AppData/Local/Programs/Python/Python310/lib/site-packages/sklearn/model_selection/_search.py?line=829'>830</a>\u001b[0m \u001b[39mif\u001b[39;00m \u001b[39mself\u001b[39m\u001b[39m.\u001b[39mverbose \u001b[39m>\u001b[39m \u001b[39m0\u001b[39m:\n\u001b[0;32m    <a href='file:///c%3A/Users/Pranav/AppData/Local/Programs/Python/Python310/lib/site-packages/sklearn/model_selection/_search.py?line=830'>831</a>\u001b[0m     \u001b[39mprint\u001b[39m(\n\u001b[0;32m    <a href='file:///c%3A/Users/Pranav/AppData/Local/Programs/Python/Python310/lib/site-packages/sklearn/model_selection/_search.py?line=831'>832</a>\u001b[0m         \u001b[39m\"\u001b[39m\u001b[39mFitting \u001b[39m\u001b[39m{0}\u001b[39;00m\u001b[39m folds for each of \u001b[39m\u001b[39m{1}\u001b[39;00m\u001b[39m candidates,\u001b[39m\u001b[39m\"\u001b[39m\n\u001b[0;32m    <a href='file:///c%3A/Users/Pranav/AppData/Local/Programs/Python/Python310/lib/site-packages/sklearn/model_selection/_search.py?line=832'>833</a>\u001b[0m         \u001b[39m\"\u001b[39m\u001b[39m totalling \u001b[39m\u001b[39m{2}\u001b[39;00m\u001b[39m fits\u001b[39m\u001b[39m\"\u001b[39m\u001b[39m.\u001b[39mformat(\n\u001b[0;32m    <a href='file:///c%3A/Users/Pranav/AppData/Local/Programs/Python/Python310/lib/site-packages/sklearn/model_selection/_search.py?line=833'>834</a>\u001b[0m             n_splits, n_candidates, n_candidates \u001b[39m*\u001b[39m n_splits\n\u001b[0;32m    <a href='file:///c%3A/Users/Pranav/AppData/Local/Programs/Python/Python310/lib/site-packages/sklearn/model_selection/_search.py?line=834'>835</a>\u001b[0m         )\n\u001b[0;32m    <a href='file:///c%3A/Users/Pranav/AppData/Local/Programs/Python/Python310/lib/site-packages/sklearn/model_selection/_search.py?line=835'>836</a>\u001b[0m     )\n\u001b[1;32m--> <a href='file:///c%3A/Users/Pranav/AppData/Local/Programs/Python/Python310/lib/site-packages/sklearn/model_selection/_search.py?line=837'>838</a>\u001b[0m out \u001b[39m=\u001b[39m parallel(\n\u001b[0;32m    <a href='file:///c%3A/Users/Pranav/AppData/Local/Programs/Python/Python310/lib/site-packages/sklearn/model_selection/_search.py?line=838'>839</a>\u001b[0m     delayed(_fit_and_score)(\n\u001b[0;32m    <a href='file:///c%3A/Users/Pranav/AppData/Local/Programs/Python/Python310/lib/site-packages/sklearn/model_selection/_search.py?line=839'>840</a>\u001b[0m         clone(base_estimator),\n\u001b[0;32m    <a href='file:///c%3A/Users/Pranav/AppData/Local/Programs/Python/Python310/lib/site-packages/sklearn/model_selection/_search.py?line=840'>841</a>\u001b[0m         X,\n\u001b[0;32m    <a href='file:///c%3A/Users/Pranav/AppData/Local/Programs/Python/Python310/lib/site-packages/sklearn/model_selection/_search.py?line=841'>842</a>\u001b[0m         y,\n\u001b[0;32m    <a href='file:///c%3A/Users/Pranav/AppData/Local/Programs/Python/Python310/lib/site-packages/sklearn/model_selection/_search.py?line=842'>843</a>\u001b[0m         train\u001b[39m=\u001b[39;49mtrain,\n\u001b[0;32m    <a href='file:///c%3A/Users/Pranav/AppData/Local/Programs/Python/Python310/lib/site-packages/sklearn/model_selection/_search.py?line=843'>844</a>\u001b[0m         test\u001b[39m=\u001b[39;49mtest,\n\u001b[0;32m    <a href='file:///c%3A/Users/Pranav/AppData/Local/Programs/Python/Python310/lib/site-packages/sklearn/model_selection/_search.py?line=844'>845</a>\u001b[0m         parameters\u001b[39m=\u001b[39;49mparameters,\n\u001b[0;32m    <a href='file:///c%3A/Users/Pranav/AppData/Local/Programs/Python/Python310/lib/site-packages/sklearn/model_selection/_search.py?line=845'>846</a>\u001b[0m         split_progress\u001b[39m=\u001b[39;49m(split_idx, n_splits),\n\u001b[0;32m    <a href='file:///c%3A/Users/Pranav/AppData/Local/Programs/Python/Python310/lib/site-packages/sklearn/model_selection/_search.py?line=846'>847</a>\u001b[0m         candidate_progress\u001b[39m=\u001b[39;49m(cand_idx, n_candidates),\n\u001b[0;32m    <a href='file:///c%3A/Users/Pranav/AppData/Local/Programs/Python/Python310/lib/site-packages/sklearn/model_selection/_search.py?line=847'>848</a>\u001b[0m         \u001b[39m*\u001b[39;49m\u001b[39m*\u001b[39;49mfit_and_score_kwargs,\n\u001b[0;32m    <a href='file:///c%3A/Users/Pranav/AppData/Local/Programs/Python/Python310/lib/site-packages/sklearn/model_selection/_search.py?line=848'>849</a>\u001b[0m     )\n\u001b[0;32m    <a href='file:///c%3A/Users/Pranav/AppData/Local/Programs/Python/Python310/lib/site-packages/sklearn/model_selection/_search.py?line=849'>850</a>\u001b[0m     \u001b[39mfor\u001b[39;49;00m (cand_idx, parameters), (split_idx, (train, test)) \u001b[39min\u001b[39;49;00m product(\n\u001b[0;32m    <a href='file:///c%3A/Users/Pranav/AppData/Local/Programs/Python/Python310/lib/site-packages/sklearn/model_selection/_search.py?line=850'>851</a>\u001b[0m         \u001b[39menumerate\u001b[39;49m(candidate_params), \u001b[39menumerate\u001b[39;49m(cv\u001b[39m.\u001b[39;49msplit(X, y, groups))\n\u001b[0;32m    <a href='file:///c%3A/Users/Pranav/AppData/Local/Programs/Python/Python310/lib/site-packages/sklearn/model_selection/_search.py?line=851'>852</a>\u001b[0m     )\n\u001b[0;32m    <a href='file:///c%3A/Users/Pranav/AppData/Local/Programs/Python/Python310/lib/site-packages/sklearn/model_selection/_search.py?line=852'>853</a>\u001b[0m )\n\u001b[0;32m    <a href='file:///c%3A/Users/Pranav/AppData/Local/Programs/Python/Python310/lib/site-packages/sklearn/model_selection/_search.py?line=854'>855</a>\u001b[0m \u001b[39mif\u001b[39;00m \u001b[39mlen\u001b[39m(out) \u001b[39m<\u001b[39m \u001b[39m1\u001b[39m:\n\u001b[0;32m    <a href='file:///c%3A/Users/Pranav/AppData/Local/Programs/Python/Python310/lib/site-packages/sklearn/model_selection/_search.py?line=855'>856</a>\u001b[0m     \u001b[39mraise\u001b[39;00m \u001b[39mValueError\u001b[39;00m(\n\u001b[0;32m    <a href='file:///c%3A/Users/Pranav/AppData/Local/Programs/Python/Python310/lib/site-packages/sklearn/model_selection/_search.py?line=856'>857</a>\u001b[0m         \u001b[39m\"\u001b[39m\u001b[39mNo fits were performed. \u001b[39m\u001b[39m\"\u001b[39m\n\u001b[0;32m    <a href='file:///c%3A/Users/Pranav/AppData/Local/Programs/Python/Python310/lib/site-packages/sklearn/model_selection/_search.py?line=857'>858</a>\u001b[0m         \u001b[39m\"\u001b[39m\u001b[39mWas the CV iterator empty? \u001b[39m\u001b[39m\"\u001b[39m\n\u001b[0;32m    <a href='file:///c%3A/Users/Pranav/AppData/Local/Programs/Python/Python310/lib/site-packages/sklearn/model_selection/_search.py?line=858'>859</a>\u001b[0m         \u001b[39m\"\u001b[39m\u001b[39mWere there no candidates?\u001b[39m\u001b[39m\"\u001b[39m\n\u001b[0;32m    <a href='file:///c%3A/Users/Pranav/AppData/Local/Programs/Python/Python310/lib/site-packages/sklearn/model_selection/_search.py?line=859'>860</a>\u001b[0m     )\n",
      "File \u001b[1;32m~\\AppData\\Local\\Programs\\Python\\Python310\\lib\\site-packages\\joblib\\parallel.py:1056\u001b[0m, in \u001b[0;36mParallel.__call__\u001b[1;34m(self, iterable)\u001b[0m\n\u001b[0;32m   <a href='file:///c%3A/Users/Pranav/AppData/Local/Programs/Python/Python310/lib/site-packages/joblib/parallel.py?line=1052'>1053</a>\u001b[0m     \u001b[39mself\u001b[39m\u001b[39m.\u001b[39m_iterating \u001b[39m=\u001b[39m \u001b[39mFalse\u001b[39;00m\n\u001b[0;32m   <a href='file:///c%3A/Users/Pranav/AppData/Local/Programs/Python/Python310/lib/site-packages/joblib/parallel.py?line=1054'>1055</a>\u001b[0m \u001b[39mwith\u001b[39;00m \u001b[39mself\u001b[39m\u001b[39m.\u001b[39m_backend\u001b[39m.\u001b[39mretrieval_context():\n\u001b[1;32m-> <a href='file:///c%3A/Users/Pranav/AppData/Local/Programs/Python/Python310/lib/site-packages/joblib/parallel.py?line=1055'>1056</a>\u001b[0m     \u001b[39mself\u001b[39;49m\u001b[39m.\u001b[39;49mretrieve()\n\u001b[0;32m   <a href='file:///c%3A/Users/Pranav/AppData/Local/Programs/Python/Python310/lib/site-packages/joblib/parallel.py?line=1056'>1057</a>\u001b[0m \u001b[39m# Make sure that we get a last message telling us we are done\u001b[39;00m\n\u001b[0;32m   <a href='file:///c%3A/Users/Pranav/AppData/Local/Programs/Python/Python310/lib/site-packages/joblib/parallel.py?line=1057'>1058</a>\u001b[0m elapsed_time \u001b[39m=\u001b[39m time\u001b[39m.\u001b[39mtime() \u001b[39m-\u001b[39m \u001b[39mself\u001b[39m\u001b[39m.\u001b[39m_start_time\n",
      "File \u001b[1;32m~\\AppData\\Local\\Programs\\Python\\Python310\\lib\\site-packages\\joblib\\parallel.py:935\u001b[0m, in \u001b[0;36mParallel.retrieve\u001b[1;34m(self)\u001b[0m\n\u001b[0;32m    <a href='file:///c%3A/Users/Pranav/AppData/Local/Programs/Python/Python310/lib/site-packages/joblib/parallel.py?line=932'>933</a>\u001b[0m \u001b[39mtry\u001b[39;00m:\n\u001b[0;32m    <a href='file:///c%3A/Users/Pranav/AppData/Local/Programs/Python/Python310/lib/site-packages/joblib/parallel.py?line=933'>934</a>\u001b[0m     \u001b[39mif\u001b[39;00m \u001b[39mgetattr\u001b[39m(\u001b[39mself\u001b[39m\u001b[39m.\u001b[39m_backend, \u001b[39m'\u001b[39m\u001b[39msupports_timeout\u001b[39m\u001b[39m'\u001b[39m, \u001b[39mFalse\u001b[39;00m):\n\u001b[1;32m--> <a href='file:///c%3A/Users/Pranav/AppData/Local/Programs/Python/Python310/lib/site-packages/joblib/parallel.py?line=934'>935</a>\u001b[0m         \u001b[39mself\u001b[39m\u001b[39m.\u001b[39m_output\u001b[39m.\u001b[39mextend(job\u001b[39m.\u001b[39;49mget(timeout\u001b[39m=\u001b[39;49m\u001b[39mself\u001b[39;49m\u001b[39m.\u001b[39;49mtimeout))\n\u001b[0;32m    <a href='file:///c%3A/Users/Pranav/AppData/Local/Programs/Python/Python310/lib/site-packages/joblib/parallel.py?line=935'>936</a>\u001b[0m     \u001b[39melse\u001b[39;00m:\n\u001b[0;32m    <a href='file:///c%3A/Users/Pranav/AppData/Local/Programs/Python/Python310/lib/site-packages/joblib/parallel.py?line=936'>937</a>\u001b[0m         \u001b[39mself\u001b[39m\u001b[39m.\u001b[39m_output\u001b[39m.\u001b[39mextend(job\u001b[39m.\u001b[39mget())\n",
      "File \u001b[1;32m~\\AppData\\Local\\Programs\\Python\\Python310\\lib\\site-packages\\joblib\\_parallel_backends.py:542\u001b[0m, in \u001b[0;36mLokyBackend.wrap_future_result\u001b[1;34m(future, timeout)\u001b[0m\n\u001b[0;32m    <a href='file:///c%3A/Users/Pranav/AppData/Local/Programs/Python/Python310/lib/site-packages/joblib/_parallel_backends.py?line=538'>539</a>\u001b[0m \u001b[39m\"\"\"Wrapper for Future.result to implement the same behaviour as\u001b[39;00m\n\u001b[0;32m    <a href='file:///c%3A/Users/Pranav/AppData/Local/Programs/Python/Python310/lib/site-packages/joblib/_parallel_backends.py?line=539'>540</a>\u001b[0m \u001b[39mAsyncResults.get from multiprocessing.\"\"\"\u001b[39;00m\n\u001b[0;32m    <a href='file:///c%3A/Users/Pranav/AppData/Local/Programs/Python/Python310/lib/site-packages/joblib/_parallel_backends.py?line=540'>541</a>\u001b[0m \u001b[39mtry\u001b[39;00m:\n\u001b[1;32m--> <a href='file:///c%3A/Users/Pranav/AppData/Local/Programs/Python/Python310/lib/site-packages/joblib/_parallel_backends.py?line=541'>542</a>\u001b[0m     \u001b[39mreturn\u001b[39;00m future\u001b[39m.\u001b[39;49mresult(timeout\u001b[39m=\u001b[39;49mtimeout)\n\u001b[0;32m    <a href='file:///c%3A/Users/Pranav/AppData/Local/Programs/Python/Python310/lib/site-packages/joblib/_parallel_backends.py?line=542'>543</a>\u001b[0m \u001b[39mexcept\u001b[39;00m CfTimeoutError \u001b[39mas\u001b[39;00m e:\n\u001b[0;32m    <a href='file:///c%3A/Users/Pranav/AppData/Local/Programs/Python/Python310/lib/site-packages/joblib/_parallel_backends.py?line=543'>544</a>\u001b[0m     \u001b[39mraise\u001b[39;00m \u001b[39mTimeoutError\u001b[39;00m \u001b[39mfrom\u001b[39;00m \u001b[39me\u001b[39;00m\n",
      "File \u001b[1;32m~\\AppData\\Local\\Programs\\Python\\Python310\\lib\\concurrent\\futures\\_base.py:440\u001b[0m, in \u001b[0;36mFuture.result\u001b[1;34m(self, timeout)\u001b[0m\n\u001b[0;32m    <a href='file:///c%3A/Users/Pranav/AppData/Local/Programs/Python/Python310/lib/concurrent/futures/_base.py?line=436'>437</a>\u001b[0m \u001b[39melif\u001b[39;00m \u001b[39mself\u001b[39m\u001b[39m.\u001b[39m_state \u001b[39m==\u001b[39m FINISHED:\n\u001b[0;32m    <a href='file:///c%3A/Users/Pranav/AppData/Local/Programs/Python/Python310/lib/concurrent/futures/_base.py?line=437'>438</a>\u001b[0m     \u001b[39mreturn\u001b[39;00m \u001b[39mself\u001b[39m\u001b[39m.\u001b[39m__get_result()\n\u001b[1;32m--> <a href='file:///c%3A/Users/Pranav/AppData/Local/Programs/Python/Python310/lib/concurrent/futures/_base.py?line=439'>440</a>\u001b[0m \u001b[39mself\u001b[39;49m\u001b[39m.\u001b[39;49m_condition\u001b[39m.\u001b[39;49mwait(timeout)\n\u001b[0;32m    <a href='file:///c%3A/Users/Pranav/AppData/Local/Programs/Python/Python310/lib/concurrent/futures/_base.py?line=441'>442</a>\u001b[0m \u001b[39mif\u001b[39;00m \u001b[39mself\u001b[39m\u001b[39m.\u001b[39m_state \u001b[39min\u001b[39;00m [CANCELLED, CANCELLED_AND_NOTIFIED]:\n\u001b[0;32m    <a href='file:///c%3A/Users/Pranav/AppData/Local/Programs/Python/Python310/lib/concurrent/futures/_base.py?line=442'>443</a>\u001b[0m     \u001b[39mraise\u001b[39;00m CancelledError()\n",
      "File \u001b[1;32m~\\AppData\\Local\\Programs\\Python\\Python310\\lib\\threading.py:320\u001b[0m, in \u001b[0;36mCondition.wait\u001b[1;34m(self, timeout)\u001b[0m\n\u001b[0;32m    <a href='file:///c%3A/Users/Pranav/AppData/Local/Programs/Python/Python310/lib/threading.py?line=317'>318</a>\u001b[0m \u001b[39mtry\u001b[39;00m:    \u001b[39m# restore state no matter what (e.g., KeyboardInterrupt)\u001b[39;00m\n\u001b[0;32m    <a href='file:///c%3A/Users/Pranav/AppData/Local/Programs/Python/Python310/lib/threading.py?line=318'>319</a>\u001b[0m     \u001b[39mif\u001b[39;00m timeout \u001b[39mis\u001b[39;00m \u001b[39mNone\u001b[39;00m:\n\u001b[1;32m--> <a href='file:///c%3A/Users/Pranav/AppData/Local/Programs/Python/Python310/lib/threading.py?line=319'>320</a>\u001b[0m         waiter\u001b[39m.\u001b[39;49macquire()\n\u001b[0;32m    <a href='file:///c%3A/Users/Pranav/AppData/Local/Programs/Python/Python310/lib/threading.py?line=320'>321</a>\u001b[0m         gotit \u001b[39m=\u001b[39m \u001b[39mTrue\u001b[39;00m\n\u001b[0;32m    <a href='file:///c%3A/Users/Pranav/AppData/Local/Programs/Python/Python310/lib/threading.py?line=321'>322</a>\u001b[0m     \u001b[39melse\u001b[39;00m:\n",
      "\u001b[1;31mKeyboardInterrupt\u001b[0m: "
     ]
    }
   ],
   "source": [
    "params = dict(C=[1, 2], \n",
    "              kernel=['linear', 'rbf'])\n",
    "svm = SVC(random_state=9)\n",
    "\n",
    "grid = GridSearchCV(svm, params, cv=3, n_jobs=-1)\n",
    "grid.fit(train_x, train_y)\n",
    "grid.cv_results_\n",
    "print(svm)\n",
    "print(\"\\n\".join([f\"for {x} => mean : {y}\" \n",
    "                 for x,y in zip(\n",
    "                     grid.cv_results_['params'], \n",
    "                     grid.cv_results_['mean_test_score'])]\n",
    "               ))\n",
    "print(grid.best_estimator_)"
   ]
  },
  {
   "cell_type": "code",
   "execution_count": null,
   "id": "d10a8704",
   "metadata": {},
   "outputs": [],
   "source": [
    "svm = SVC()\n",
    "svm.fit(train_x, train_y)\n",
    "with open('saved_model/svm.sav', 'wb') as f:\n",
    "    pickle.dump(svm, f)"
   ]
  },
  {
   "cell_type": "markdown",
   "id": "f5a1694a",
   "metadata": {},
   "source": [
    "#### Bonus neural network : MultiLayer Perceptron"
   ]
  },
  {
   "cell_type": "code",
   "execution_count": null,
   "id": "a1423e10",
   "metadata": {},
   "outputs": [
    {
     "data": {
      "text/plain": [
       "0.9617021276595744"
      ]
     },
     "execution_count": 10,
     "metadata": {},
     "output_type": "execute_result"
    }
   ],
   "source": [
    "mlp = MLPClassifier()\n",
    "mlp.fit(train_x, train_y)\n",
    "mlp.score(train_x, train_y)"
   ]
  },
  {
   "cell_type": "code",
   "execution_count": null,
   "id": "d6c46ea9",
   "metadata": {},
   "outputs": [],
   "source": [
    "params = dict(hidden_layer_sizes=[100, 120], \n",
    "              activation=['relu', 'tanh'])\n",
    "mlp = MLPClassifier(random_state=9)\n",
    "\n",
    "grid = GridSearchCV(mlp, params, cv=3, n_jobs=-1)\n",
    "grid.fit(train_x, train_y)\n",
    "grid.cv_results_\n",
    "print(mlp)\n",
    "print(\"\\n\".join([f\"for {x} => mean : {y}\" \n",
    "                 for x,y in zip(\n",
    "                     grid.cv_results_['params'], \n",
    "                     grid.cv_results_['mean_test_score'])]\n",
    "               ))\n",
    "print(grid.best_estimator_)"
   ]
  },
  {
   "cell_type": "code",
   "execution_count": null,
   "id": "bcdfd95b",
   "metadata": {},
   "outputs": [],
   "source": [
    "with open('saved_model/mlp.sav', 'wb') as f:\n",
    "    pickle.dump(mlp, f)"
   ]
  },
  {
   "cell_type": "markdown",
   "id": "4705506e",
   "metadata": {},
   "source": [
    "### Underlying variables"
   ]
  },
  {
   "cell_type": "code",
   "execution_count": null,
   "id": "feeb08e1",
   "metadata": {},
   "outputs": [],
   "source": [
    "with open('../data/udata_description.json', 'r') as f:\n",
    "    udesc = json.loads(f.read())\n",
    "    udesc['U35'] = 'bankrupt'"
   ]
  },
  {
   "cell_type": "code",
   "execution_count": null,
   "id": "03db885d",
   "metadata": {},
   "outputs": [
    {
     "data": {
      "text/plain": [
       "((43246, 33), ['financial expenses', 'receivables', 'sales (n) / sales (n-1)'])"
      ]
     },
     "execution_count": 19,
     "metadata": {},
     "output_type": "execute_result"
    }
   ],
   "source": [
    "udata = pd.read_csv('../data/extension/csv/udata.csv')\n",
    "udata.head()\n",
    "udata.replace(np.inf, np.NAN, inplace=True)\n",
    "useless_col = udata.isna().sum()[udata.isna().sum() > 5000].index\n",
    "udata.drop(useless_col, axis=1, inplace=True)\n",
    "useless_row = udata.isna().sum(axis=1)[udata.isna().sum(axis=1) > 5].index\n",
    "udata.drop(useless_row, axis=0, inplace=True)\n",
    "udata.fillna(udata.mean(), inplace=True)\n",
    "udata.shape, [udesc[var] for var in useless_col]"
   ]
  },
  {
   "cell_type": "code",
   "execution_count": null,
   "id": "426fe542",
   "metadata": {},
   "outputs": [],
   "source": [
    "train_ = pd.DataFrame()\n",
    "test_ = pd.DataFrame()\n",
    "for year in udata.year.unique():\n",
    "    tr, ts = train_test_split(udata[udata.year == year], test_size=0.2, random_state=9)\n",
    "    train_ = train_.append(tr, ignore_index=True)\n",
    "    test_ = test_.append(ts, ignore_index=True)\n",
    "\n",
    "categ = ['year', 'U35']\n",
    "\n",
    "uscaler =  StandardScaler()\n",
    "uscaler.fit(train_.drop(columns=categ))\n",
    "\n",
    "train = pd.DataFrame(uscaler.transform(train_.drop(columns=categ)), \n",
    "                      columns=train_.columns.drop(categ))\n",
    "test = pd.DataFrame(uscaler.transform(test_.drop(columns=categ)), \n",
    "                     columns=test_.columns.drop(categ))"
   ]
  },
  {
   "cell_type": "markdown",
   "id": "567e9d0b",
   "metadata": {},
   "source": [
    "#### Save scaler used for standardize train set"
   ]
  },
  {
   "cell_type": "code",
   "execution_count": null,
   "id": "c66432a3",
   "metadata": {},
   "outputs": [],
   "source": [
    "with open('saved_model/uscaler.sav', 'wb') as f:\n",
    "    pickle.dump(uscaler, f)"
   ]
  },
  {
   "cell_type": "code",
   "execution_count": null,
   "id": "076a3940",
   "metadata": {},
   "outputs": [
    {
     "data": {
      "text/plain": [
       "((34594, 36), (34594,))"
      ]
     },
     "execution_count": 22,
     "metadata": {},
     "output_type": "execute_result"
    }
   ],
   "source": [
    "train = pd.concat([train, train_[categ]], axis=1)\n",
    "test = pd.concat([test, test_[categ]], axis=1)\n",
    "train_y = train.pop('U35')\n",
    "train_x = train.copy()\n",
    "test_y = test.pop('U35')\n",
    "test_x = test.copy()\n",
    "\n",
    "train_x = pd.get_dummies(train_x)\n",
    "test_x = pd.get_dummies(test_x)\n",
    "\n",
    "train_x.shape, train_y.shape"
   ]
  },
  {
   "cell_type": "markdown",
   "id": "98349617",
   "metadata": {},
   "source": [
    "### Test"
   ]
  },
  {
   "cell_type": "markdown",
   "id": "64b3e3c2",
   "metadata": {},
   "source": [
    "#### On logistic regression"
   ]
  },
  {
   "cell_type": "code",
   "execution_count": null,
   "id": "97741dce",
   "metadata": {},
   "outputs": [
    {
     "name": "stdout",
     "output_type": "stream",
     "text": [
      "LogisticRegression(n_jobs=-1)\n",
      "for {'C': 1, 'solver': 'newton-cg'} => mean : 0.7590855965147822\n",
      "for {'C': 1, 'solver': 'sag'} => mean : 0.9512054120970402\n",
      "for {'C': 2, 'solver': 'newton-cg'} => mean : 0.7472623927823733\n",
      "for {'C': 2, 'solver': 'sag'} => mean : 0.9512054120970402\n",
      "for {'C': 3, 'solver': 'newton-cg'} => mean : 0.7436200373925544\n",
      "for {'C': 3, 'solver': 'sag'} => mean : 0.9512054120970402\n",
      "LogisticRegression(C=1, n_jobs=-1, solver='sag')\n"
     ]
    }
   ],
   "source": [
    "params = dict(solver=['newton-cg', 'sag'], C=[1, 2, 3])\n",
    "lr = LogisticRegression(n_jobs=-1)\n",
    "grid = GridSearchCV(lr, params, cv=3, n_jobs=-1)\n",
    "grid.fit(train_x, train_y)\n",
    "grid.cv_results_\n",
    "print(lr)\n",
    "print(\"\\n\".join([f\"for {x} => mean : {y}\" for x,y in zip(\n",
    "                     grid.cv_results_['params'], grid.cv_results_['mean_test_score']\n",
    "                 )]))\n",
    "print(grid.best_estimator_)"
   ]
  },
  {
   "cell_type": "code",
   "execution_count": null,
   "id": "667a74e1",
   "metadata": {},
   "outputs": [],
   "source": [
    "with open('saved_model/ulr.sav', 'wb') as f:\n",
    "    pickle.dump(grid.best_estimator_, f)"
   ]
  },
  {
   "cell_type": "markdown",
   "id": "486329e8",
   "metadata": {},
   "source": [
    "it appears that there is a tiny increasing with this dataset of underlying variable, let's test it on \n",
    "our best model, the MLP "
   ]
  },
  {
   "cell_type": "code",
   "execution_count": null,
   "id": "85cb93b2",
   "metadata": {},
   "outputs": [
    {
     "data": {
      "text/plain": [
       "0.9693010348615367"
      ]
     },
     "execution_count": 26,
     "metadata": {},
     "output_type": "execute_result"
    }
   ],
   "source": [
    "mlp = MLPClassifier()\n",
    "mlp.fit(train_x, train_y)\n",
    "mlp.score(train_x, train_y)"
   ]
  },
  {
   "cell_type": "code",
   "execution_count": null,
   "id": "d8255e28",
   "metadata": {},
   "outputs": [],
   "source": [
    "with open('saved_model/umlp.sav', 'wb') as f:\n",
    "    pickle.dump(mlp, f)"
   ]
  },
  {
   "cell_type": "code",
   "execution_count": 22,
   "id": "286e0862",
   "metadata": {},
   "outputs": [
    {
     "data": {
      "text/plain": [
       "array([0.9525463 , 0.21238426, 0.35706019, 0.95081019, 0.9536769 ])"
      ]
     },
     "execution_count": 22,
     "metadata": {},
     "output_type": "execute_result"
    }
   ],
   "source": [
    "lr = LogisticRegression()\n",
    "cross_val_score(lr, test_x, test_y, cv=5)"
   ]
  },
  {
   "cell_type": "code",
   "execution_count": 23,
   "id": "7fdd9564",
   "metadata": {},
   "outputs": [
    {
     "name": "stdout",
     "output_type": "stream",
     "text": [
      "[[8240    3]\n",
      " [ 392    4]]\n"
     ]
    },
    {
     "data": {
      "image/png": "[encoded data removed]",
      "text/plain": [
       "<Figure size 432x288 with 2 Axes>"
      ]
     },
     "metadata": {
      "needs_background": "light"
     },
     "output_type": "display_data"
    }
   ],
   "source": [
    "from sklearn.metrics import confusion_matrix,plot_confusion_matrix,classification_report\n",
    "lr.fit(train_x,train_y)\n",
    "y_pred = lr.predict(test_x)\n",
    "confusion_matrix = confusion_matrix(test_y,y_pred) \n",
    "print(confusion_matrix)\n",
    "plot_confusion_matrix(lr,test_x,test_y)\n",
    "plt.show()"
   ]
  },
  {
   "cell_type": "code",
   "execution_count": 26,
   "id": "5b8445e2",
   "metadata": {},
   "outputs": [
    {
     "name": "stdout",
     "output_type": "stream",
     "text": [
      "              precision    recall  f1-score   support\n",
      "\n",
      "           0       0.95      1.00      0.98      8243\n",
      "           1       0.57      0.01      0.02       396\n",
      "\n",
      "    accuracy                           0.95      8639\n",
      "   macro avg       0.76      0.50      0.50      8639\n",
      "weighted avg       0.94      0.95      0.93      8639\n",
      "\n"
     ]
    }
   ],
   "source": [
    "cr = classification_report(test_y,lr.predict(test_x))\n",
    "print(cr)"
   ]
  }
 ],
 "metadata": {
  "kernelspec": {
   "display_name": "Python 3 (ipykernel)",
   "language": "python",
   "name": "python3"
  },
  "language_info": {
   "codemirror_mode": {
    "name": "ipython",
    "version": 3
   },
   "file_extension": ".py",
   "mimetype": "text/x-python",
   "name": "python",
   "nbconvert_exporter": "python",
   "pygments_lexer": "ipython3",
   "version": "3.10.0"
  }
 },
 "nbformat": 4,
 "nbformat_minor": 5
}
